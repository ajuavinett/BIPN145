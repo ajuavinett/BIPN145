{
 "cells": [
  {
   "cell_type": "markdown",
   "metadata": {},
   "source": [
    "# Introduction to Python & Jupyter Notebooks\n",
    "\n",
    "This first notebook will introduce you using Jupyter Notebooks for BIPN 145 and beyond."
   ]
  },
  {
   "cell_type": "code",
   "execution_count": 7,
   "metadata": {},
   "outputs": [
    {
     "name": "stdout",
     "output_type": "stream",
     "text": [
      "Nice work!\n"
     ]
    }
   ],
   "source": [
    "# In Python, anything with a \"#\" in front of it is code annotation, and is not read by the computer.\n",
    "# We'll use these comments as instructions for you as you work through this notebook.\n",
    "\n",
    "# You can run a cell by pressing shift-enter. Click in this cell and then press shift and enter simultaneously.\n",
    "print('Nice work!')"
   ]
  },
  {
   "cell_type": "code",
   "execution_count": null,
   "metadata": {},
   "outputs": [],
   "source": []
  }
 ],
 "metadata": {
  "kernelspec": {
   "display_name": "Python 3",
   "language": "python",
   "name": "python3"
  },
  "language_info": {
   "codemirror_mode": {
    "name": "ipython",
    "version": 3
   },
   "file_extension": ".py",
   "mimetype": "text/x-python",
   "name": "python",
   "nbconvert_exporter": "python",
   "pygments_lexer": "ipython3",
   "version": "3.6.6"
  }
 },
 "nbformat": 4,
 "nbformat_minor": 2
}
