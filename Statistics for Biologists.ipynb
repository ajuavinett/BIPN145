{
 "cells": [
  {
   "cell_type": "code",
   "execution_count": 17,
   "metadata": {},
   "outputs": [],
   "source": [
    "# Import packages of code that we need to run this script\n",
    "# SYNTAX: import \"name of package\" as \"nickname\"\n",
    "\n",
    "import numpy as np # lots of useful code\n",
    "import matplotlib.pyplot as plt # plotting code\n",
    "import scipy.stats as stats # statistics code"
   ]
  },
  {
   "cell_type": "code",
   "execution_count": 14,
   "metadata": {},
   "outputs": [
    {
     "name": "stdout",
     "output_type": "stream",
     "text": [
      "70.76923076923077\n",
      "70.0\n"
     ]
    }
   ],
   "source": [
    "# Save heights of class as a variable.\n",
    "\n",
    "height = [52,62,70,84,74,62,90,73,70,71,67,76,69]"
   ]
  },
  {
   "cell_type": "code",
   "execution_count": 15,
   "metadata": {},
   "outputs": [],
   "source": [
    "# What data should we use?\n",
    "data = height"
   ]
  },
  {
   "cell_type": "code",
   "execution_count": null,
   "metadata": {},
   "outputs": [],
   "source": [
    "# Get the mean and median of our data\n",
    "print(np.mean(data))\n",
    "print(np.median(data))"
   ]
  },
  {
   "cell_type": "code",
   "execution_count": 20,
   "metadata": {},
   "outputs": [
    {
     "data": {
      "image/png": "[encoded data removed]",
      "text/plain": [
       "<Figure size 432x288 with 1 Axes>"
      ]
     },
     "metadata": {
      "needs_background": "light"
     },
     "output_type": "display_data"
    }
   ],
   "source": [
    "# Let's plot our distribution of data\n",
    "[n, bins, patches] = plt.hist(x=[data,normal_listd])\n",
    "\n",
    "plt.show()"
   ]
  },
  {
   "cell_type": "code",
   "execution_count": 18,
   "metadata": {},
   "outputs": [
    {
     "name": "stdout",
     "output_type": "stream",
     "text": [
      "Statistic is 0.9637673497200012\n",
      "Pvalue is 0.8105263113975525\n",
      "Distribution is normal.\n"
     ]
    }
   ],
   "source": [
    "# Let's test to see whether or not the distribution is normal. This will determine our statistics.\n",
    "# We're using a Shapiro-Wilk test here to test for normality. \n",
    "\n",
    "[shapiro_stat, p_value] = stats.shapiro(data)\n",
    "\n",
    "print('Statistic is '+ str(shapiro_stat))\n",
    "print('Pvalue is ' + str(p_value))\n",
    "\n",
    "if p_value < 0.05:\n",
    "    print('Distribution is not normal.')\n",
    "else:\n",
    "    print('Distribution is normal.')"
   ]
  },
  {
   "cell_type": "code",
   "execution_count": 12,
   "metadata": {},
   "outputs": [
    {
     "name": "stdout",
     "output_type": "stream",
     "text": [
      "Random list:\n",
      "[[85.24002811 18.41955929 68.42183929 66.58225059 10.37491946 19.01442783\n",
      "  94.95923194 96.94254665 79.67197738 33.77494591]]\n",
      "Normal list\n",
      "[-190.16438686  173.83024104   73.57184858  -53.20080666   68.91638427\n",
      "  -89.42256985   23.21612997  -60.71748604  135.52090477  -41.0961995 ]\n"
     ]
    }
   ],
   "source": [
    "# Let's create a couple different lists, and then see if those are normal.\n",
    "\n",
    "# This creates a random list.\n",
    "random_list = 100*np.random.rand(1,10)\n",
    "print('Random list:')\n",
    "print(random_list)\n",
    "\n",
    "# This creates a list from a normal distribution.\n",
    "normal_list = np.random.normal(50,100,10)\n",
    "print('Normal list')\n",
    "print(normal_list)"
   ]
  }
 ],
 "metadata": {
  "kernelspec": {
   "display_name": "Python 3",
   "language": "python",
   "name": "python3"
  },
  "language_info": {
   "codemirror_mode": {
    "name": "ipython",
    "version": 3
   },
   "file_extension": ".py",
   "mimetype": "text/x-python",
   "name": "python",
   "nbconvert_exporter": "python",
   "pygments_lexer": "ipython3",
   "version": "3.6.7"
  }
 },
 "nbformat": 4,
 "nbformat_minor": 2
}
