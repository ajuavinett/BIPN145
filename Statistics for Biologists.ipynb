{
 "cells": [
  {
   "cell_type": "code",
   "execution_count": 75,
   "metadata": {},
   "outputs": [],
   "source": [
    "import numpy as np\n",
    "import matplotlib.pyplot as plt\n",
    "import matplotlib.mlab as mlab\n",
    "from scipy import stats\n",
    "import random\n",
    "from scipy.stats import norm"
   ]
  },
  {
   "cell_type": "code",
   "execution_count": 7,
   "metadata": {},
   "outputs": [
    {
     "data": {
      "text/plain": [
       "70.76923076923077"
      ]
     },
     "execution_count": 7,
     "metadata": {},
     "output_type": "execute_result"
    }
   ],
   "source": [
    "height = [52,62,70,84,74,62,90,73,70,71,67,76,69]\n",
    "np.mean(height)"
   ]
  },
  {
   "cell_type": "code",
   "execution_count": 8,
   "metadata": {},
   "outputs": [
    {
     "data": {
      "text/plain": [
       "70.0"
      ]
     },
     "execution_count": 8,
     "metadata": {},
     "output_type": "execute_result"
    }
   ],
   "source": [
    "np.median(height)"
   ]
  },
  {
   "cell_type": "code",
   "execution_count": 84,
   "metadata": {},
   "outputs": [],
   "source": [
    "plt.subplots?"
   ]
  },
  {
   "cell_type": "code",
   "execution_count": 102,
   "metadata": {},
   "outputs": [
    {
     "data": {
      "image/png": "[encoded data removed]",
      "text/plain": [
       "<Figure size 432x288 with 1 Axes>"
      ]
     },
     "metadata": {
      "needs_background": "light"
     },
     "output_type": "display_data"
    }
   ],
   "source": [
    "data = height\n",
    "\n",
    "# Let's plot our distribution of data\n",
    "[n, bins, patches] = plt.hist(x=data)\n",
    "\n",
    "plt.show()"
   ]
  },
  {
   "cell_type": "code",
   "execution_count": 68,
   "metadata": {},
   "outputs": [
    {
     "name": "stdout",
     "output_type": "stream",
     "text": [
      "Statistic is 0.751613199710846\n",
      "Pvalue is 0.0037338384427130222\n",
      "Distribution is not normal.\n"
     ]
    }
   ],
   "source": [
    "# Let's test to see whether or not the distribution is normal. This will determine our statistics.\n",
    "\n",
    "[shapiro_stat, p_value] = stats.shapiro(random_list)\n",
    "\n",
    "print('Statistic is '+ str(shapiro_stat))\n",
    "print('Pvalue is ' + str(p_value))\n",
    "\n",
    "if p_value < 0.05:\n",
    "    print('Distribution is not normal.')\n",
    "else:\n",
    "    print('Distribution is normal.')"
   ]
  },
  {
   "cell_type": "code",
   "execution_count": 99,
   "metadata": {},
   "outputs": [
    {
     "name": "stdout",
     "output_type": "stream",
     "text": [
      "Random list:\n",
      "[56, 31, 46, 81, 63, 96, 87, 91, 59, 34]\n",
      "Normal list\n",
      "[  56.47746475    3.30964924  109.93536337  129.23941334   28.33673157\n",
      "  186.57989057  151.87938911  132.68500068   26.89460749 -152.03062095]\n"
     ]
    }
   ],
   "source": [
    "# Let's create a couple different lists, and then see if those are normal.\n",
    "\n",
    "# This creates a random list.\n",
    "random_list = random.sample(range(1,100), 10)\n",
    "print('Random list:')\n",
    "print(random_list)\n",
    "\n",
    "# This creates a list from a normal distribution.\n",
    "normal_list = np.random.normal(50,100,10)\n",
    "print('Normal list')\n",
    "print(normal_list)\n"
   ]
  },
  {
   "cell_type": "code",
   "execution_count": null,
   "metadata": {},
   "outputs": [],
   "source": []
  },
  {
   "cell_type": "code",
   "execution_count": 34,
   "metadata": {},
   "outputs": [
    {
     "data": {
      "text/plain": [
       "[88, 98, 18, 81, 8, 23, 28, 43, 60, 92]"
      ]
     },
     "execution_count": 34,
     "metadata": {},
     "output_type": "execute_result"
    }
   ],
   "source": [
    "l"
   ]
  },
  {
   "cell_type": "code",
   "execution_count": 55,
   "metadata": {},
   "outputs": [],
   "source": []
  },
  {
   "cell_type": "code",
   "execution_count": null,
   "metadata": {},
   "outputs": [],
   "source": []
  }
 ],
 "metadata": {
  "kernelspec": {
   "display_name": "Python 3",
   "language": "python",
   "name": "python3"
  },
  "language_info": {
   "codemirror_mode": {
    "name": "ipython",
    "version": 3
   },
   "file_extension": ".py",
   "mimetype": "text/x-python",
   "name": "python",
   "nbconvert_exporter": "python",
   "pygments_lexer": "ipython3",
   "version": "3.6.7"
  }
 },
 "nbformat": 4,
 "nbformat_minor": 2
}
