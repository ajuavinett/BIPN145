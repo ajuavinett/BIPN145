{
 "cells": [
  {
   "cell_type": "markdown",
   "metadata": {},
   "source": [
    "# What are those cells doing?\n",
    "\n",
    "### This lesson will download a dataset from the Allen Brain Institute's \"Software Development Kit,\" or SDK.\n",
    "\n",
    "These datasets contain calcium imaging data for various different cell types in the visual cortex of the mouse. It's likely that these cell types have different roles in the visual system -- your mission is to figure out what these roles are. You will choose a visual area, a cell type, and a type of visual stimulus:\n",
    "\n",
    "<img src=\"ExperimentalDesign.png\">  \n",
    "\n",
    "### By the end of this lesson, you will be able to:\n",
    "1. Choose a dataset for a particular cell type and save it locally.\n",
    "2. Plot a stimulus-response curve for one neuron.\n",
    "\n",
    "Additional information on this dataset, and how it was collected, can be found here: http://help.brain-map.org/display/observatory/Data+-+Visual+Coding\n",
    "\n",
    "\n",
    "## 1. Importing toolboxes\n",
    "<b>First, we'll import the necessary toolboxes to run this code.</b> The first chunk of \"import\" lines will bring in some standard toolboxes that we need. For example, \"numpy\" is a toolbox that has functions to work with large arrays (https://en.wikipedia.org/wiki/NumPy). The second chunk of import lines brings in some toolboxes that the Allen Brain Observatory has already packaged, to help users analyze its data."
   ]
  },
  {
   "cell_type": "code",
   "execution_count": 1,
   "metadata": {},
   "outputs": [
    {
     "name": "stdout",
     "output_type": "stream",
     "text": [
      "Successfully imported AllenSDK packages.\n"
     ]
    }
   ],
   "source": [
    "# Standard toolboxes\n",
    "import pprint\n",
    "import numpy as np\n",
    "import matplotlib.pyplot as plt\n",
    "from __future__ import print_function\n",
    "import h5py\n",
    "import pandas as pd\n",
    "import os\n",
    "# This class uses a 'manifest' to keep track of downloaded data and metadata.  \n",
    "# All downloaded files will be stored relative to the directory holding the manifest\n",
    "# file.  If 'manifest_file' is a relative path (as it is below), it will be \n",
    "# saved relative to your working directory.  It can also be an absolute path.\n",
    "\n",
    "# Allen specific toolboxes\n",
    "import allensdk.brain_observatory.stimulus_info as stim_info\n",
    "from allensdk.core.brain_observatory_cache import BrainObservatoryCache\n",
    "from allensdk.brain_observatory.natural_scenes import NaturalScenes\n",
    "from allensdk.brain_observatory.drifting_gratings import DriftingGratings\n",
    "from allensdk.brain_observatory.static_gratings import StaticGratings\n",
    "\n",
    "# We will save the Brain Observatory Cache as a variable, \"boc.\"\n",
    "boc = BrainObservatoryCache(manifest_file='boc/manifest.json')\n",
    "cwd = os.getcwd()\n",
    "print('Successfully imported AllenSDK packages.')"
   ]
  },
  {
   "cell_type": "markdown",
   "metadata": {},
   "source": [
    "## 2. Get a list of all possible trangenic mouse lines and brain areas, and choose which to work with.\n",
    "Next, we'll ask that \"boc\" structure to tell us what all of the possible Cre lines and brain areas are that we can analyze. You'll need to use these exact names when you're trying to pull a specific one from the dataset.\n",
    "\n",
    "More info on Cre lines can be found here:\n",
    "http://help.brain-map.org/display/observatory/Transgenic+Mouse+Lines"
   ]
  },
  {
   "cell_type": "code",
   "execution_count": 2,
   "metadata": {},
   "outputs": [
    {
     "name": "stdout",
     "output_type": "stream",
     "text": [
      "all cre lines: [u'Cux2-CreERT2', u'Emx1-IRES-Cre', u'Nr5a1-Cre', u'Rbp4-Cre_KL100', u'Rorb-IRES2-Cre', u'Scnn1a-Tg3-Cre']\n",
      "all brain regions: [u'VISal', u'VISam', u'VISl', u'VISp', u'VISpm', u'VISrl']\n"
     ]
    }
   ],
   "source": [
    "# We'll save the list of cre lines as a variable, 'cre-lines'.\n",
    "cre_lines = boc.get_all_cre_lines()\n",
    "print(\"all cre lines: \" + str(cre_lines))\n",
    "\n",
    "# We'll save the list of possible structures as a variable, 'brain_areas'.\n",
    "brain_areas = boc.get_all_targeted_structures()\n",
    "print(\"all brain regions: \" + str(brain_areas))"
   ]
  },
  {
   "cell_type": "markdown",
   "metadata": {},
   "source": [
    "<div style=\"background: #DFF0D8; border-radius: 3px; padding: 10px;\">\n",
    "<p><b>Task:</b>  Choose a visual area and Cre line from the lists above to examine in the rest of the notebook. You need to type these with single quotes around them, e.g. 'VISp'.\n",
    "</div>"
   ]
  },
  {
   "cell_type": "code",
   "execution_count": 4,
   "metadata": {},
   "outputs": [
    {
     "name": "stdout",
     "output_type": "stream",
     "text": [
      "Let's take a look at how Scnn1a-Tg3-Cre cells in VISp respond to natural_scenes\n"
     ]
    }
   ],
   "source": [
    "visual_area = 'VISp'\n",
    "cre_line = 'Scnn1a-Tg3-Cre'\n",
    "visual_stim = 'natural_scenes'\n",
    "print(\"Let's take a look at how \" + str(cre_line) + \" cells in \" + visual_area + \" respond to \" + visual_stim)"
   ]
  },
  {
   "cell_type": "markdown",
   "metadata": {},
   "source": [
    "<p>\n",
    "<div style=\"background: #DFF0D8; border-radius: 3px; padding: 10px;\">\n",
    "<p><b>Task:</b>  Get the list of all the experiment containers for that area and Cre line combination.\n",
    "</div>"
   ]
  },
  {
   "cell_type": "code",
   "execution_count": 5,
   "metadata": {},
   "outputs": [
    {
     "data": {
      "text/html": [
       "<div>\n",
       "<style scoped>\n",
       "    .dataframe tbody tr th:only-of-type {\n",
       "        vertical-align: middle;\n",
       "    }\n",
       "\n",
       "    .dataframe tbody tr th {\n",
       "        vertical-align: top;\n",
       "    }\n",
       "\n",
       "    .dataframe thead th {\n",
       "        text-align: right;\n",
       "    }\n",
       "</style>\n",
       "<table border=\"1\" class=\"dataframe\">\n",
       "  <thead>\n",
       "    <tr style=\"text-align: right;\">\n",
       "      <th></th>\n",
       "      <th>cre_line</th>\n",
       "      <th>donor_name</th>\n",
       "      <th>failed</th>\n",
       "      <th>id</th>\n",
       "      <th>imaging_depth</th>\n",
       "      <th>reporter_line</th>\n",
       "      <th>specimen_name</th>\n",
       "      <th>tags</th>\n",
       "      <th>targeted_structure</th>\n",
       "    </tr>\n",
       "  </thead>\n",
       "  <tbody>\n",
       "    <tr>\n",
       "      <th>0</th>\n",
       "      <td>Scnn1a-Tg3-Cre</td>\n",
       "      <td>230570</td>\n",
       "      <td>False</td>\n",
       "      <td>511510911</td>\n",
       "      <td>350</td>\n",
       "      <td>Ai93(TITL-GCaMP6f)</td>\n",
       "      <td>Scnn1a-Tg3-Cre;Camk2a-tTA;Ai93-230570</td>\n",
       "      <td>[]</td>\n",
       "      <td>VISp</td>\n",
       "    </tr>\n",
       "    <tr>\n",
       "      <th>1</th>\n",
       "      <td>Scnn1a-Tg3-Cre</td>\n",
       "      <td>246775</td>\n",
       "      <td>False</td>\n",
       "      <td>528889127</td>\n",
       "      <td>350</td>\n",
       "      <td>Ai93(TITL-GCaMP6f)</td>\n",
       "      <td>Scnn1a-Tg3-Cre;Camk2a-tTA;Ai93-246775</td>\n",
       "      <td>[]</td>\n",
       "      <td>VISp</td>\n",
       "    </tr>\n",
       "    <tr>\n",
       "      <th>2</th>\n",
       "      <td>Scnn1a-Tg3-Cre</td>\n",
       "      <td>262562</td>\n",
       "      <td>False</td>\n",
       "      <td>546724786</td>\n",
       "      <td>350</td>\n",
       "      <td>Ai93(TITL-GCaMP6f)</td>\n",
       "      <td>Scnn1a-Tg3-Cre;Camk2a-tTA;Ai93-262562</td>\n",
       "      <td>[]</td>\n",
       "      <td>VISp</td>\n",
       "    </tr>\n",
       "    <tr>\n",
       "      <th>3</th>\n",
       "      <td>Scnn1a-Tg3-Cre</td>\n",
       "      <td>231951</td>\n",
       "      <td>False</td>\n",
       "      <td>511510955</td>\n",
       "      <td>275</td>\n",
       "      <td>Ai93(TITL-GCaMP6f)</td>\n",
       "      <td>Scnn1a-Tg3-Cre;Camk2a-tTA;Ai93-231951</td>\n",
       "      <td>[]</td>\n",
       "      <td>VISp</td>\n",
       "    </tr>\n",
       "    <tr>\n",
       "      <th>4</th>\n",
       "      <td>Scnn1a-Tg3-Cre</td>\n",
       "      <td>221470</td>\n",
       "      <td>False</td>\n",
       "      <td>511507811</td>\n",
       "      <td>350</td>\n",
       "      <td>Ai93(TITL-GCaMP6f)</td>\n",
       "      <td>Scnn1a-Tg3-Cre;Camk2a-tTA;Ai93-221470</td>\n",
       "      <td>[]</td>\n",
       "      <td>VISp</td>\n",
       "    </tr>\n",
       "    <tr>\n",
       "      <th>5</th>\n",
       "      <td>Scnn1a-Tg3-Cre</td>\n",
       "      <td>250789</td>\n",
       "      <td>False</td>\n",
       "      <td>535575493</td>\n",
       "      <td>275</td>\n",
       "      <td>Ai93(TITL-GCaMP6f)</td>\n",
       "      <td>Scnn1a-Tg3-Cre;Camk2a-tTA;Ai93-250789</td>\n",
       "      <td>[]</td>\n",
       "      <td>VISp</td>\n",
       "    </tr>\n",
       "    <tr>\n",
       "      <th>6</th>\n",
       "      <td>Scnn1a-Tg3-Cre</td>\n",
       "      <td>250789</td>\n",
       "      <td>False</td>\n",
       "      <td>540993888</td>\n",
       "      <td>350</td>\n",
       "      <td>Ai93(TITL-GCaMP6f)</td>\n",
       "      <td>Scnn1a-Tg3-Cre;Camk2a-tTA;Ai93-250789</td>\n",
       "      <td>[]</td>\n",
       "      <td>VISp</td>\n",
       "    </tr>\n",
       "    <tr>\n",
       "      <th>7</th>\n",
       "      <td>Scnn1a-Tg3-Cre</td>\n",
       "      <td>231953</td>\n",
       "      <td>False</td>\n",
       "      <td>511498742</td>\n",
       "      <td>350</td>\n",
       "      <td>Ai93(TITL-GCaMP6f)</td>\n",
       "      <td>Scnn1a-Tg3-Cre;Camk2a-tTA;Ai93-231953</td>\n",
       "      <td>[]</td>\n",
       "      <td>VISp</td>\n",
       "    </tr>\n",
       "    <tr>\n",
       "      <th>8</th>\n",
       "      <td>Scnn1a-Tg3-Cre</td>\n",
       "      <td>246775</td>\n",
       "      <td>False</td>\n",
       "      <td>531134088</td>\n",
       "      <td>335</td>\n",
       "      <td>Ai93(TITL-GCaMP6f)</td>\n",
       "      <td>Scnn1a-Tg3-Cre;Camk2a-tTA;Ai93-246775</td>\n",
       "      <td>[]</td>\n",
       "      <td>VISp</td>\n",
       "    </tr>\n",
       "  </tbody>\n",
       "</table>\n",
       "</div>"
      ],
      "text/plain": [
       "         cre_line donor_name  failed         id  imaging_depth  \\\n",
       "0  Scnn1a-Tg3-Cre     230570   False  511510911            350   \n",
       "1  Scnn1a-Tg3-Cre     246775   False  528889127            350   \n",
       "2  Scnn1a-Tg3-Cre     262562   False  546724786            350   \n",
       "3  Scnn1a-Tg3-Cre     231951   False  511510955            275   \n",
       "4  Scnn1a-Tg3-Cre     221470   False  511507811            350   \n",
       "5  Scnn1a-Tg3-Cre     250789   False  535575493            275   \n",
       "6  Scnn1a-Tg3-Cre     250789   False  540993888            350   \n",
       "7  Scnn1a-Tg3-Cre     231953   False  511498742            350   \n",
       "8  Scnn1a-Tg3-Cre     246775   False  531134088            335   \n",
       "\n",
       "        reporter_line                          specimen_name tags  \\\n",
       "0  Ai93(TITL-GCaMP6f)  Scnn1a-Tg3-Cre;Camk2a-tTA;Ai93-230570   []   \n",
       "1  Ai93(TITL-GCaMP6f)  Scnn1a-Tg3-Cre;Camk2a-tTA;Ai93-246775   []   \n",
       "2  Ai93(TITL-GCaMP6f)  Scnn1a-Tg3-Cre;Camk2a-tTA;Ai93-262562   []   \n",
       "3  Ai93(TITL-GCaMP6f)  Scnn1a-Tg3-Cre;Camk2a-tTA;Ai93-231951   []   \n",
       "4  Ai93(TITL-GCaMP6f)  Scnn1a-Tg3-Cre;Camk2a-tTA;Ai93-221470   []   \n",
       "5  Ai93(TITL-GCaMP6f)  Scnn1a-Tg3-Cre;Camk2a-tTA;Ai93-250789   []   \n",
       "6  Ai93(TITL-GCaMP6f)  Scnn1a-Tg3-Cre;Camk2a-tTA;Ai93-250789   []   \n",
       "7  Ai93(TITL-GCaMP6f)  Scnn1a-Tg3-Cre;Camk2a-tTA;Ai93-231953   []   \n",
       "8  Ai93(TITL-GCaMP6f)  Scnn1a-Tg3-Cre;Camk2a-tTA;Ai93-246775   []   \n",
       "\n",
       "  targeted_structure  \n",
       "0               VISp  \n",
       "1               VISp  \n",
       "2               VISp  \n",
       "3               VISp  \n",
       "4               VISp  \n",
       "5               VISp  \n",
       "6               VISp  \n",
       "7               VISp  \n",
       "8               VISp  "
      ]
     },
     "execution_count": 5,
     "metadata": {},
     "output_type": "execute_result"
    }
   ],
   "source": [
    "exps = boc.get_experiment_containers(targeted_structures=[visual_area], cre_lines=[cre_line],)\n",
    "#make a pandas DataFrame to see what information we have on these experiments\n",
    "pd.DataFrame(exps)"
   ]
  },
  {
   "cell_type": "markdown",
   "metadata": {},
   "source": [
    "<div style=\"background: #DFF0D8; border-radius: 3px; padding: 10px;\">\n",
    "<p><b>Task:</b>  Pick a random experiment from this selection\n",
    "</div>"
   ]
  },
  {
   "cell_type": "code",
   "execution_count": 11,
   "metadata": {},
   "outputs": [
    {
     "name": "stdout",
     "output_type": "stream",
     "text": [
      "546724786\n"
     ]
    }
   ],
   "source": [
    "expt_container_id = np.random.choice(exps)['id']\n",
    "expt_container_id = 546724786\n",
    "print(expt_container_id)"
   ]
  },
  {
   "cell_type": "markdown",
   "metadata": {},
   "source": [
    "<div style=\"background: #DFF0D8; border-radius: 3px; padding: 10px;\">\n",
    "<p><b>Task:</b> Get information about all of the experiment <strong>sessions</strong> in your experiment <strong>container</strong>.  This is accomplished with the `get_ophys_experiments` method.  \n",
    "</div>"
   ]
  },
  {
   "cell_type": "code",
   "execution_count": 12,
   "metadata": {
    "scrolled": true
   },
   "outputs": [
    {
     "data": {
      "text/html": [
       "<div>\n",
       "<style scoped>\n",
       "    .dataframe tbody tr th:only-of-type {\n",
       "        vertical-align: middle;\n",
       "    }\n",
       "\n",
       "    .dataframe tbody tr th {\n",
       "        vertical-align: top;\n",
       "    }\n",
       "\n",
       "    .dataframe thead th {\n",
       "        text-align: right;\n",
       "    }\n",
       "</style>\n",
       "<table border=\"1\" class=\"dataframe\">\n",
       "  <thead>\n",
       "    <tr style=\"text-align: right;\">\n",
       "      <th></th>\n",
       "      <th>acquisition_age_days</th>\n",
       "      <th>cre_line</th>\n",
       "      <th>donor_name</th>\n",
       "      <th>experiment_container_id</th>\n",
       "      <th>fail_eye_tracking</th>\n",
       "      <th>id</th>\n",
       "      <th>imaging_depth</th>\n",
       "      <th>reporter_line</th>\n",
       "      <th>session_type</th>\n",
       "      <th>specimen_name</th>\n",
       "      <th>targeted_structure</th>\n",
       "    </tr>\n",
       "  </thead>\n",
       "  <tbody>\n",
       "    <tr>\n",
       "      <th>0</th>\n",
       "      <td>104</td>\n",
       "      <td>Scnn1a-Tg3-Cre</td>\n",
       "      <td>262562</td>\n",
       "      <td>546724786</td>\n",
       "      <td>True</td>\n",
       "      <td>547573479</td>\n",
       "      <td>350</td>\n",
       "      <td>Ai93(TITL-GCaMP6f)</td>\n",
       "      <td>three_session_B</td>\n",
       "      <td>Scnn1a-Tg3-Cre;Camk2a-tTA;Ai93-262562</td>\n",
       "      <td>VISp</td>\n",
       "    </tr>\n",
       "    <tr>\n",
       "      <th>1</th>\n",
       "      <td>103</td>\n",
       "      <td>Scnn1a-Tg3-Cre</td>\n",
       "      <td>262562</td>\n",
       "      <td>546724786</td>\n",
       "      <td>True</td>\n",
       "      <td>547388708</td>\n",
       "      <td>350</td>\n",
       "      <td>Ai93(TITL-GCaMP6f)</td>\n",
       "      <td>three_session_A</td>\n",
       "      <td>Scnn1a-Tg3-Cre;Camk2a-tTA;Ai93-262562</td>\n",
       "      <td>VISp</td>\n",
       "    </tr>\n",
       "    <tr>\n",
       "      <th>2</th>\n",
       "      <td>109</td>\n",
       "      <td>Scnn1a-Tg3-Cre</td>\n",
       "      <td>262562</td>\n",
       "      <td>546724786</td>\n",
       "      <td>True</td>\n",
       "      <td>549483412</td>\n",
       "      <td>350</td>\n",
       "      <td>Ai93(TITL-GCaMP6f)</td>\n",
       "      <td>three_session_C2</td>\n",
       "      <td>Scnn1a-Tg3-Cre;Camk2a-tTA;Ai93-262562</td>\n",
       "      <td>VISp</td>\n",
       "    </tr>\n",
       "  </tbody>\n",
       "</table>\n",
       "</div>"
      ],
      "text/plain": [
       "   acquisition_age_days        cre_line donor_name  experiment_container_id  \\\n",
       "0                   104  Scnn1a-Tg3-Cre     262562                546724786   \n",
       "1                   103  Scnn1a-Tg3-Cre     262562                546724786   \n",
       "2                   109  Scnn1a-Tg3-Cre     262562                546724786   \n",
       "\n",
       "   fail_eye_tracking         id  imaging_depth       reporter_line  \\\n",
       "0               True  547573479            350  Ai93(TITL-GCaMP6f)   \n",
       "1               True  547388708            350  Ai93(TITL-GCaMP6f)   \n",
       "2               True  549483412            350  Ai93(TITL-GCaMP6f)   \n",
       "\n",
       "       session_type                          specimen_name targeted_structure  \n",
       "0   three_session_B  Scnn1a-Tg3-Cre;Camk2a-tTA;Ai93-262562               VISp  \n",
       "1   three_session_A  Scnn1a-Tg3-Cre;Camk2a-tTA;Ai93-262562               VISp  \n",
       "2  three_session_C2  Scnn1a-Tg3-Cre;Camk2a-tTA;Ai93-262562               VISp  "
      ]
     },
     "execution_count": 12,
     "metadata": {},
     "output_type": "execute_result"
    }
   ],
   "source": [
    "expt_session_info = boc.get_ophys_experiments(experiment_container_ids=[expt_container_id])\n",
    "expt_session_info_df = pd.DataFrame(expt_session_info)\n",
    "expt_session_info_df"
   ]
  },
  {
   "cell_type": "markdown",
   "metadata": {},
   "source": [
    "## 3. Download your dataset.\n",
    "\n",
    "Now that we've chosen a cell type and brain area, we need to download a dataset that contains data for that cell type, in that brain area. The data_set object contains methods and info for a single experiment session.\n",
    "\n",
    "<b>Choose one of the experiments above that has a session type \"three_session_B\" and enter it below.</b><p>\n",
    "<b>Note: It will take ~10 minutes for the experiment to download.</b>\n",
    "</div>"
   ]
  },
  {
   "cell_type": "code",
   "execution_count": 14,
   "metadata": {
    "scrolled": true
   },
   "outputs": [
    {
     "name": "stderr",
     "output_type": "stream",
     "text": [
      "2018-09-20 15:35:05,277 allensdk.api.api.retrieve_file_over_http INFO     Downloading URL: http://api.brain-map.org/api/v2/well_known_file_download/549288655\n"
     ]
    }
   ],
   "source": [
    "session_id = 547573479\n",
    "data_set = boc.get_ophys_experiment_data(ophys_experiment_id=session_id)"
   ]
  },
  {
   "cell_type": "markdown",
   "metadata": {},
   "source": [
    "<div style=\"background: #DFF0D8; border-radius: 3px; padding: 10px;\">\n",
    "<p><b>Task:</b> Get the mean response for each cell, to each different stimulus. Fortunately, this is already saved for us.\n",
    "</div>"
   ]
  },
  {
   "cell_type": "code",
   "execution_count": null,
   "metadata": {},
   "outputs": [],
   "source": [
    "ns = NaturalScenes(data_set)\n",
    "#mean_sweep_response = ns.mean_sweep_response\n",
    "#mean_sweep_response"
   ]
  },
  {
   "cell_type": "markdown",
   "metadata": {},
   "source": [
    "Now we'll organize the stimulus table. This tells us which stimulus was played on each trial. This data set has 118 different scenes, and each scene is presented 50 times. Images of the scenes can be found here: http://observatory.brain-map.org/visualcoding/stimulus/natural_scenes\n"
   ]
  },
  {
   "cell_type": "code",
   "execution_count": 17,
   "metadata": {},
   "outputs": [
    {
     "data": {
      "text/plain": [
       "(5950, 3)"
      ]
     },
     "execution_count": 17,
     "metadata": {},
     "output_type": "execute_result"
    }
   ],
   "source": [
    "stim_table = data_set.get_stimulus_table('natural_scenes')\n",
    "scenes = data_set.get_stimulus_template('natural_scenes')\n",
    "sceneIDs = np.unique(stim_table.frame)\n",
    "stim_table.shape"
   ]
  },
  {
   "cell_type": "code",
   "execution_count": 18,
   "metadata": {},
   "outputs": [],
   "source": [
    "# We'll decide on a few experimental variables\n",
    "interlength = 7 # in frames, 0.25 secs\n",
    "stim_length = 7 # in frames, 0.25 secs\n",
    "sweep_length = stim_length + interlength"
   ]
  },
  {
   "cell_type": "code",
   "execution_count": 19,
   "metadata": {},
   "outputs": [],
   "source": [
    "time,dffTraces = data_set.get_dff_traces() #get traces . dffTraces is cells by time\n",
    "cell_ids = data_set.get_cell_specimen_ids()\n",
    "numCells = len(cell_ids)\n",
    "nTrials = len(stim_table)\n",
    "y = np.empty((nTrials))\n",
    "y[:] = np.nan\n",
    "trials_per_scene = nTrials/len(sceneIDs)\n",
    "XT_exp = np.empty((nTrials,numCells,sweep_length))"
   ]
  },
  {
   "cell_type": "code",
   "execution_count": 22,
   "metadata": {
    "scrolled": true
   },
   "outputs": [],
   "source": [
    "for scene in sceneIDs:\n",
    "    trial_mask = (stim_table.frame == scene)\n",
    "    this_stim_table = stim_table[trial_mask]\n",
    "    for t in np.arange(0,trials_per_scene+1):\n",
    "        trial = t + (scene + 1) * trials_per_scene - 1\n",
    "        y[trial] = scene + 1\n",
    "        for cell in np.arange(0,numCells):\n",
    "            stim_on = this_stim_table.start.iloc[t-1] \n",
    "            start_sweep = stim_on - interlength\n",
    "            end_sweep = stim_on + stim_length\n",
    "            trange = np.arange(start_sweep ,end_sweep)\n",
    "            XT_exp[trial,cell,:] = dffTraces[cell,trange]"
   ]
  },
  {
   "cell_type": "code",
   "execution_count": 56,
   "metadata": {},
   "outputs": [
    {
     "data": {
      "image/png": "[encoded data removed]",
      "text/plain": [
       "<Figure size 432x288 with 1 Axes>"
      ]
     },
     "metadata": {},
     "output_type": "display_data"
    }
   ],
   "source": [
    "single_timecourse = XT_exp[1,1,:]\n",
    "this_cell = XT_exp[:,1,:]\n",
    "# plt.plot(single_timecourse)\n",
    "expt_mean = np.mean(XT_exp,axis=0)\n",
    "for scene in sceneIDs:\n",
    "    plt.plot(XT_exp[scene,3,:])\n",
    "    plt.xlabel('frames')\n",
    "    plt.ylabel('calcium signal')\n",
    "    plt.hold\n"
   ]
  },
  {
   "cell_type": "code",
   "execution_count": null,
   "metadata": {},
   "outputs": [],
   "source": [
    "ns = NaturalScenes(data_set)\n",
    "mean_sweep_response = ns.mean_sweep_response"
   ]
  },
  {
   "cell_type": "code",
   "execution_count": 47,
   "metadata": {},
   "outputs": [
    {
     "ename": "NameError",
     "evalue": "name 'stim_off' is not defined",
     "output_type": "error",
     "traceback": [
      "\u001b[0;31m---------------------------------------------------------------------------\u001b[0m",
      "\u001b[0;31mNameError\u001b[0m                                 Traceback (most recent call last)",
      "\u001b[0;32m<ipython-input-47-e4e0c9e452f1>\u001b[0m in \u001b[0;36m<module>\u001b[0;34m()\u001b[0m\n\u001b[0;32m----> 1\u001b[0;31m \u001b[0mstim_off\u001b[0m\u001b[0;34m\u001b[0m\u001b[0m\n\u001b[0m",
      "\u001b[0;31mNameError\u001b[0m: name 'stim_off' is not defined"
     ]
    }
   ],
   "source": []
  },
  {
   "cell_type": "markdown",
   "metadata": {},
   "source": [
    "## get natural scenes delta F/F\n",
    "1. save df/f traces for cells in given area\n",
    "2. get cells and save. \n",
    "3. skip if data already saved. \n",
    "\n",
    "_this will take a bit of time_"
   ]
  },
  {
   "cell_type": "code",
   "execution_count": null,
   "metadata": {},
   "outputs": [],
   "source": [
    "interlength = 7 #in frames, 0.25 secs\n",
    "stim_length = 7 #frames, 0.25 secs\n",
    "sweep_length = 2*interlength+stim_length #in frames, 1secs\n",
    "\n",
    "for aa in range(len(areas)):\n",
    "    this_area = areas[aa]\n",
    "    \n",
    "    for cc in range(len(cre_lines)):\n",
    "        this_cre_line = cre_lines[cc]\n",
    "        X_ALL = []\n",
    "        XT_ALL = []\n",
    "        Y_ALL = []\n",
    "        cells_all = []\n",
    "        total_num_cells = 0\n",
    "        \n",
    "        exps = boc.get_ophys_experiments(targeted_structures=[this_area],stimuli=[stim_info.NATURAL_SCENES],\n",
    "                                cre_lines=[this_cre_line],)\n",
    "        num_exps = len(exps)\n",
    "\n",
    "        for ee in range(num_exps):\n",
    "            \n",
    "            exps = boc.get_ophys_experiments(targeted_structures=[this_area],stimuli=[stim_info.NATURAL_SCENES],\n",
    "                                             cre_lines=[this_cre_line])[ee]\n",
    "            expData = boc.get_ophys_experiment_data(exps['id'])\n",
    "            time,dffTraces = expData.get_dff_traces() #get traces . dffTraces is cells by time\n",
    "\n",
    "            #118 scenes, each scene presented 50 times. there is a scene labeled -1 in stimulus table, must be blank\n",
    "            stim_table = expData.get_stimulus_table('natural_scenes')\n",
    "            scenes = expData.get_stimulus_template('natural_scenes')\n",
    "            sceneIDs = np.unique(stim_table.frame)\n",
    "            cell_ids = expData.get_cell_specimen_ids()\n",
    "            numCells = len(cell_ids)\n",
    "            total_num_cells = numCells + total_num_cells\n",
    "            nTrials = len(stim_table)\n",
    "            y = np.empty((nTrials))\n",
    "            y[:] = np.nan\n",
    "            trials_per_scene = nTrials/len(sceneIDs)\n",
    "            XT_exp = np.empty((nTrials,numCells,sweep_length))\n",
    "\n",
    "            for scene in sceneIDs:\n",
    "                trial_mask = (stim_table.frame == scene)\n",
    "                this_stim_table = stim_table[trial_mask]\n",
    "                for t in np.arange(1,trials_per_scene+1):\n",
    "                    trial = t + (scene + 1) * trials_per_scene - 1\n",
    "                    y[trial] = scene + 1\n",
    "                    for cell in np.arange(0,numCells):\n",
    "                        stim_on = this_stim_table.start.iloc[t-1] \n",
    "                        start_sweep = stim_on - interlength #start one second (28 frames) before stimulus onset\n",
    "                        end_sweep = stim_on + stim_length + interlength   #end \n",
    "                        trange = np.arange(start_sweep ,end_sweep)\n",
    "                        XT_exp[trial,cell,:] = dffTraces[cell,trange]\n",
    "\n",
    "            #concatenate experiments\n",
    "            if ee == 0:\n",
    "                XT_ALL = XT_exp\n",
    "                Y_ALL = y\n",
    "                cells_all = cell_ids\n",
    "            if ee > 0:\n",
    "                XT_ALL = np.hstack((XT_ALL,XT_exp))\n",
    "                Y_ALL = np.vstack((Y_ALL,y))\n",
    "                cells_all = np.hstack((cells_all,cell_ids))\n",
    "\n",
    "        print(this_area + ',  ' + this_cre_line + ': ' + str(numCells) + ' cells')\n",
    "        filename = this_area +'_'+ this_cre_line + '_' + str(exps['id']) + '_naturalScenes.h5'\n",
    "    \n",
    "        #save arrays X_ALL & XT_ALL -make this into function\n",
    "        with h5py.File(filename,'w') as hf:\n",
    "            hf.create_dataset('X_matrix_time', data=XT_exp,chunks=True)\n",
    "            hf.create_dataset('Y_matrix', data=y,chunks=True)\n",
    "            hf.create_dataset('cell_IDs', data=cell_ids,chunks=True)"
   ]
  },
  {
   "cell_type": "code",
   "execution_count": null,
   "metadata": {},
   "outputs": [],
   "source": []
  },
  {
   "cell_type": "code",
   "execution_count": null,
   "metadata": {},
   "outputs": [],
   "source": []
  },
  {
   "cell_type": "code",
   "execution_count": null,
   "metadata": {},
   "outputs": [],
   "source": []
  },
  {
   "cell_type": "code",
   "execution_count": null,
   "metadata": {},
   "outputs": [],
   "source": []
  }
 ],
 "metadata": {
  "kernelspec": {
   "display_name": "Python 2",
   "language": "python",
   "name": "python2"
  },
  "language_info": {
   "codemirror_mode": {
    "name": "ipython",
    "version": 2
   },
   "file_extension": ".py",
   "mimetype": "text/x-python",
   "name": "python",
   "nbconvert_exporter": "python",
   "pygments_lexer": "ipython2",
   "version": "2.7.15"
  }
 },
 "nbformat": 4,
 "nbformat_minor": 2
}
