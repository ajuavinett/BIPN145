{
 "cells": [
  {
   "cell_type": "markdown",
   "metadata": {},
   "source": [
    "# Plot Spectrogram Output from LabChart\n",
    "The following script will plot your spectrogram data from LabChart. <b>Before running this script</b>, follow the instructions in the lab protocol for exporting and cleaning your data.\n",
    "\n",
    "### Step 1. Import necessary toolboxes & our exported EEG file.\n",
    "You will need to change the file directory below to match the path and filename of your EEG spectrogram .txt file."
   ]
  },
  {
   "cell_type": "code",
   "execution_count": null,
   "metadata": {},
   "outputs": [],
   "source": [
    "import matplotlib.pyplot as plt\n",
    "import seaborn as sns\n",
    "import numpy as np\n",
    "\n",
    "# change your file name here\n",
    "filename = 'eeg.txt'\n",
    "\n",
    "labchart_output = np.genfromtxt(filename)\n",
    "\n",
    "np.set_printoptions(precision=2)\n",
    "\n",
    "print('LabChart data imported:')\n",
    "print(labchart_output)"
   ]
  },
  {
   "cell_type": "markdown",
   "metadata": {},
   "source": [
    "### Step 2. Clean data.\n",
    "We still need to clean up the data a little bit, since the frequency labels (in the 0th row) are also in here, along with the time labels in the first column. Let's save these frequency & time labels, and then only save the necessary rows of our dataset. We should be left with an array that is just the actual data."
   ]
  },
  {
   "cell_type": "code",
   "execution_count": null,
   "metadata": {},
   "outputs": [],
   "source": [
    "frequency = labchart_output[0,1:] # from old way of importing\n",
    "time = labchart_output[1:,0]\n",
    "time = time-time[0]\n",
    "recording_length = time[-1] - time[0]\n",
    "\n",
    "spectrum = labchart_output[0:,1:]\n",
    "\n",
    "print('Frequency range is ' + str(frequency[0]) + ' to ' + str(frequency[-1]) + ' Hz.')\n",
    "print('Recording length is ' + str(recording_length) + ' seconds.') "
   ]
  },
  {
   "cell_type": "markdown",
   "metadata": {},
   "source": [
    "### Step 3. Rotate & flip array and subselect frequencies to plot.\n",
    "Next, let's rotate & flip the frequency array so that it matches our conventional spectrogram format (time on y axis, frequencies going up the x axis). We'll also subselect the frequencies we want, rather than plotting up to 200 Hz."
   ]
  },
  {
   "cell_type": "code",
   "execution_count": null,
   "metadata": {},
   "outputs": [],
   "source": [
    "# set your max frequency below\n",
    "max_frequency = 50\n",
    "\n",
    "# round our frequency values so we can find one that matches our max frequency\n",
    "freq_rounded = np.round(frequency)\n",
    "freq_IDs = np.where(freq_rounded == max_frequency)\n",
    "\n",
    "# create a new frequency axis\n",
    "freq_short = freq_rounded[0:freq_IDs[0][0]]\n",
    "\n",
    "# cut down the spectrum to only our desired frequencies\n",
    "spectrum_clean = spectrum[:,0:freq_short.shape[0]]\n",
    "\n",
    "# rotate the spectrum to match typical spectrogram format\n",
    "spectrum_rotated = np.rot90(spectrum_clean)\n",
    "freq_labels = np.flip(freq_short,axis=0)\n",
    "\n",
    "print('Your data will plot with a maximum frequency of '+str(max_frequency))"
   ]
  },
  {
   "cell_type": "markdown",
   "metadata": {},
   "source": [
    "### Step 4. Plot the data!\n",
    "Depending on the power in your dataset, you may need to change the maximum power plotted on the color bar. To do so, change the variable \"max_v\"."
   ]
  },
  {
   "cell_type": "code",
   "execution_count": null,
   "metadata": {},
   "outputs": [],
   "source": [
    "num_ticks = 10\n",
    "\n",
    "yticks = np.linspace(0, len(freq_labels) - 1, num_ticks, dtype=np.int)\n",
    "yticklabels = [freq_labels[idx] for idx in yticks]\n",
    "\n",
    "xticks = np.linspace(0, len(time)-1, num_ticks, dtype=np.int)\n",
    "xticklabels = [time[idt] for idt in xticks]\n",
    "\n",
    "# use the line below to change the heatmap scale bar\n",
    "max_v = 1e-11\n",
    "\n",
    "# you can change figsize below to change the size of your figure\n",
    "fig=plt.figure(figsize=(8, 5), dpi= 80, facecolor='w', edgecolor='k')\n",
    "\n",
    "ax = sns.heatmap(\n",
    "    spectrum_rotated,vmin=0,vmax=max_v,yticklabels=yticklabels,xticklabels=xticklabels,cbar_kws={\n",
    "        'label': 'Power ($V^2$)'})\n",
    "\n",
    "ax.set_yticks(yticks)\n",
    "ax.set_xticks(xticks)\n",
    "ax.set_ylabel('Frequency (Hz)',fontdict={'fontsize':14})\n",
    "ax.set_xlabel('Time (seconds)',fontdict={'fontsize':14})\n",
    "\n",
    "plt.show()"
   ]
  },
  {
   "cell_type": "markdown",
   "metadata": {},
   "source": [
    "### Step 5. Right click on the image above to save it for your lab report.\n",
    "\n",
    "If you want to run this code again on a different dataset, we need to clear all of the variables. Run the reset code block below to do so. It will also prompt you to make sure you want to proceed. Type y and press enter."
   ]
  },
  {
   "cell_type": "code",
   "execution_count": null,
   "metadata": {},
   "outputs": [],
   "source": [
    "%reset"
   ]
  },
  {
   "cell_type": "code",
   "execution_count": null,
   "metadata": {},
   "outputs": [],
   "source": [
    "# This is just bonus code for working with an unclean dataset\n",
    "\n",
    "# figure out how many rows are in the file\n",
    "# n_footer_rows = labchart_output.shape[0]+1 \n",
    "\n",
    "# extract frequency row, only.\n",
    "#frequency = np.genfromtxt(filename,skip_header=2,skip_footer=n_footer_rows)\n",
    "#frequency = frequency[1:]\n",
    "\n",
    "#if frequency.shape[0] != 514:\n",
    "#    print('Error in importing frequency row.')\n",
    "    "
   ]
  }
 ],
 "metadata": {
  "kernelspec": {
   "display_name": "Python 3",
   "language": "python",
   "name": "python3"
  },
  "language_info": {
   "codemirror_mode": {
    "name": "ipython",
    "version": 3
   },
   "file_extension": ".py",
   "mimetype": "text/x-python",
   "name": "python",
   "nbconvert_exporter": "python",
   "pygments_lexer": "ipython3",
   "version": "3.7.3"
  }
 },
 "nbformat": 4,
 "nbformat_minor": 2
}
